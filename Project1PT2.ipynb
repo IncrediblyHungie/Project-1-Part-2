{
  "nbformat": 4,
  "nbformat_minor": 0,
  "metadata": {
    "colab": {
      "provenance": [],
      "authorship_tag": "ABX9TyMX+8mvBDkaXgYP5n2ztK2L",
      "include_colab_link": true
    },
    "kernelspec": {
      "name": "python3",
      "display_name": "Python 3"
    },
    "language_info": {
      "name": "python"
    }
  },
  "cells": [
    {
      "cell_type": "markdown",
      "metadata": {
        "id": "view-in-github",
        "colab_type": "text"
      },
      "source": [
        "<a href=\"https://colab.research.google.com/github/IncrediblyHungie/Project-1-Part-2/blob/main/Project1PT2.ipynb\" target=\"_parent\"><img src=\"https://colab.research.google.com/assets/colab-badge.svg\" alt=\"Open In Colab\"/></a>"
      ]
    },
    {
      "cell_type": "markdown",
      "source": [
        "# Data Science Insights\n",
        "Peter Skotte"
      ],
      "metadata": {
        "id": "hvOR6vqgjx5b"
      }
    },
    {
      "cell_type": "code",
      "source": [],
      "metadata": {
        "id": "FrikRZFZj5oE"
      },
      "execution_count": null,
      "outputs": []
    },
    {
      "cell_type": "markdown",
      "source": [
        "# Loading Data"
      ],
      "metadata": {
        "id": "KZ6GZOUvj-a0"
      }
    },
    {
      "cell_type": "code",
      "source": [],
      "metadata": {
        "id": "CpvlVIsjkCJ0"
      },
      "execution_count": null,
      "outputs": []
    },
    {
      "cell_type": "markdown",
      "source": [
        "# Data Cleaning"
      ],
      "metadata": {
        "id": "ioQqeBrVkCtM"
      }
    },
    {
      "cell_type": "code",
      "source": [],
      "metadata": {
        "id": "2Qs62bEPkGON"
      },
      "execution_count": null,
      "outputs": []
    },
    {
      "cell_type": "markdown",
      "source": [
        "# Exploratory Values"
      ],
      "metadata": {
        "id": "H0RxC1kxkG7l"
      }
    },
    {
      "cell_type": "code",
      "source": [],
      "metadata": {
        "id": "W4wUtSjakIdt"
      },
      "execution_count": null,
      "outputs": []
    },
    {
      "cell_type": "markdown",
      "source": [
        "# Explanatory Values"
      ],
      "metadata": {
        "id": "y4ujpiHPkKw2"
      }
    },
    {
      "cell_type": "code",
      "source": [],
      "metadata": {
        "id": "Q-adWWG2kNae"
      },
      "execution_count": null,
      "outputs": []
    }
  ]
}